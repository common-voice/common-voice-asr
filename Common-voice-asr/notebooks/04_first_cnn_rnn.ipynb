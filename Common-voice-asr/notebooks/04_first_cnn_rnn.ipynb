{
 "cells": [
  {
   "cell_type": "code",
   "execution_count": null,
   "metadata": {},
   "outputs": [],
   "source": [
    "# Display one spectrogram\n",
    "import numpy as np\n",
    "import matplotlib.pyplot as plt\n",
    "import torch\n",
    "import librosa.display\n",
    "import os\n",
    "\n",
    "PROCESSED_DIR = \"/Users/setongerrity/Desktop/Mozilla/common-voice-asr/Common-voice-asr/data/processed/mini_cv\"\n",
    "\n",
    "npy_file = [file for file in os.listdir(PROCESSED_DIR) if file.endswith('.npy')][0]\n",
    "\n",
    "spect_path = os.path.join(PROCESSED_DIR, npy_file)\n",
    "S_dB = np.load(spect_path)\n",
    "\n",
    "fig, ax = plt.subplots()\n",
    "img = librosa.display.specshow(S_dB, x_axis='time', y_axis='mel', sr=22050, fmax=8000, ax=ax)\n",
    "fig.colorbar(img, ax=ax, format='%+2.0f dB')\n",
    "ax.set(title=f\"Mel-frequency spectrogram - {npy_file}\")\n",
    "plt.tight_layout()\n",
    "plt.show()"
   ]
  },
  {
   "cell_type": "code",
   "execution_count": 7,
   "metadata": {},
   "outputs": [
    {
     "name": "stdout",
     "output_type": "stream",
     "text": [
      "Spectogram shape: torch.Size([1, 1, 80, 359])\n",
      "Output shape: torch.Size([1, 10])\n"
     ]
    }
   ],
   "source": [
    "# Run a forward pass\n",
    "import importlib.util\n",
    "import sys\n",
    "import torch\n",
    "import os\n",
    "from torch.utils.data import DataLoader\n",
    "\n",
    "neural_file_path = \"/Users/setongerrity/Desktop/Mozilla/common-voice-asr/Common-voice-asr/neural_networks/\"\n",
    "datasets_file = os.path.join(neural_file_path, \"datasets.py\")\n",
    "wrap_file = os.path.join(neural_file_path, \"wrap_encoder.py\")\n",
    "cnn_file = os.path.join(neural_file_path, \"cnn_encoder.py\")\n",
    "\n",
    "dataset_spec = importlib.util.spec_from_file_location(\"datasets\", datasets_file)\n",
    "datasets = importlib.util.module_from_spec(dataset_spec)\n",
    "sys.modules[\"datasets\"] = datasets\n",
    "dataset_spec.loader.exec_module(datasets)\n",
    "wrap_spec = importlib.util.spec_from_file_location(\"wrap_encoder\", wrap_file)\n",
    "wrap_encoder = importlib.util.module_from_spec(wrap_spec)\n",
    "sys.modules[\"wrap_encoder\"] = wrap_encoder\n",
    "wrap_spec.loader.exec_module(wrap_encoder)\n",
    "cnn_spec = importlib.util.spec_from_file_location(\"cnn_encoder\", cnn_file)\n",
    "cnn_encoder = importlib.util.module_from_spec(cnn_spec)\n",
    "sys.modules[\"cnn_encoder\"] = cnn_encoder\n",
    "cnn_spec.loader.exec_module(cnn_encoder)\n",
    "\n",
    "manifest_path = \"/Users/setongerrity/Desktop/Mozilla/common-voice-asr/Common-voice-asr/data/manifest.csv\"\n",
    "spect_dir = \"/Users/setongerrity/Desktop/Mozilla/common-voice-asr/Common-voice-asr/data/processed/mini_cv\"\n",
    "dataset = datasets.MiniCVDataset(manifest_path, spect_dir)\n",
    "loader = DataLoader(